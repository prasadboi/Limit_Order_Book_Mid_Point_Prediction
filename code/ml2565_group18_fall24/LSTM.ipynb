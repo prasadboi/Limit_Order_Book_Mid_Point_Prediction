{
 "cells": [
  {
   "cell_type": "code",
   "execution_count": 1,
   "metadata": {
    "id": "Mgio3q1oMLjk"
   },
   "outputs": [
    {
     "name": "stderr",
     "output_type": "stream",
     "text": [
      "2024-12-08 01:52:56.163551: I tensorflow/core/platform/cpu_feature_guard.cc:210] This TensorFlow binary is optimized to use available CPU instructions in performance-critical operations.\n",
      "To enable the following instructions: AVX2 AVX512F AVX512_VNNI FMA, in other operations, rebuild TensorFlow with the appropriate compiler flags.\n"
     ]
    }
   ],
   "source": [
    "import pandas as pd\n",
    "import os\n",
    "import numpy as np\n",
    "from keras.preprocessing import timeseries_dataset_from_array\n",
    "import tensorflow as tf\n",
    "from tensorflow.keras import layers\n"
   ]
  },
  {
   "cell_type": "code",
   "execution_count": 2,
   "metadata": {
    "id": "4qpo4BSMMTgo"
   },
   "outputs": [],
   "source": [
    "class DataPreprocess:\n",
    "    def __init__(self):\n",
    "        pass\n",
    "\n",
    "    def load_data(self, path):\n",
    "        df = pd.read_csv(path)\n",
    "        df.drop(\"Unnamed: 0\", inplace=True, axis = 1)\n",
    "        return df\n",
    "\n",
    "    def get_bid_levels(self, df, bid_levels):\n",
    "        df_tmp = pd.DataFrame()\n",
    "        df_tmp['time'] = pd.to_datetime(df['system_time'])\n",
    "        df_tmp['midpoint'] = df['midpoint']\n",
    "        \n",
    "        # Filter ask and bid volume columns\n",
    "        ask_cols = [f'asks_limit_notional_{i}' for i in range(bid_levels)]\n",
    "        bid_cols = [f'bids_limit_notional_{i}' for i in range(bid_levels)]\n",
    "        ask_cols = [col for col in ask_cols if col in df.columns]\n",
    "        bid_cols = [col for col in bid_cols if col in df.columns]\n",
    "        \n",
    "        # Assign ask and bid volumes\n",
    "        for lvls in range(len(ask_cols)):  # Use the length of filtered columns\n",
    "            df_tmp[f'ask_volume{lvls}'] = df[ask_cols[lvls]]\n",
    "        for lvls in range(len(bid_cols)):  # Use the length of filtered columns\n",
    "            df_tmp[f'bid_volume{lvls}'] = df[bid_cols[lvls]]\n",
    "        \n",
    "        # Filter ask and bid distance columns\n",
    "        ask_distance_cols = [f'asks_distance_{i}' for i in range(bid_levels)]\n",
    "        bid_distance_cols = [f'bids_distance_{i}' for i in range(bid_levels)]\n",
    "        ask_distance_cols = [col for col in ask_distance_cols if col in df.columns]\n",
    "        bid_distance_cols = [col for col in bid_distance_cols if col in df.columns]\n",
    "        \n",
    "        # Assign ask and bid prices\n",
    "        for lvls in range(len(ask_distance_cols)):  # Use the length of filtered columns\n",
    "            df_tmp[f'ask_price{lvls}'] = df['midpoint'] + (df['midpoint'] * df[ask_distance_cols[lvls]])\n",
    "        for lvls in range(len(bid_distance_cols)):  # Use the length of filtered columns\n",
    "            df_tmp[f'bid_price{lvls}'] = df['midpoint'] + (df['midpoint'] * df[bid_distance_cols[lvls]])\n",
    "        return df_tmp\n",
    "\n",
    "    \"\"\"\n",
    "        For a actively traded stock,\n",
    "        1. If there is an increase in the bid price in future compared to its current or previous value.\n",
    "            We take the Bid volume.\n",
    "        2. If the previous and current price is same we take the difference in the volume.\n",
    "        3. If the current price is less than the current one then we take -ve of the current volume.\n",
    "\n",
    "        Order Flow Imbalance is actually a factor that denotes the buying side or selling pressue for a particular stock at that level.\n",
    "        When OFI > 0 it means that market is dominated by sellers. Lot more bids have happened.\n",
    "        When OFI < 0 it means that market is dominated by buyers. Lot more asks have happened.\n",
    "    \"\"\"\n",
    "    def get_bid_with_ofi_levels(self, df_tmp, bid_levels):\n",
    "        for lvls in range(bid_levels):\n",
    "            bid_price = df_tmp[f'bid_price{lvls}']\n",
    "            ask_price = df_tmp[f'ask_price{lvls}']\n",
    "            bid_volume = df_tmp[f'bid_volume{lvls}']\n",
    "            ask_volume = df_tmp[f'ask_volume{lvls}']\n",
    "            \n",
    "            # Shift prices and volumes to compute differences\n",
    "            bid_price_prev = bid_price.shift(1)\n",
    "            ask_price_prev = ask_price.shift(1)\n",
    "            bid_volume_prev = bid_volume.shift(1)\n",
    "            ask_volume_prev = ask_volume.shift(1)\n",
    "            \n",
    "            # Calculate bid and ask order flows\n",
    "            bid_of = np.where(\n",
    "                bid_price > bid_price_prev, bid_volume,\n",
    "                np.where(bid_price == bid_price_prev, bid_volume - bid_volume_prev, -bid_volume)\n",
    "            )\n",
    "            ask_of = np.where(\n",
    "                ask_price > ask_price_prev, -ask_volume,\n",
    "                np.where(ask_price == ask_price_prev, ask_volume - ask_volume_prev, ask_volume)\n",
    "            )\n",
    "            \n",
    "            # Calculate OFI\n",
    "            df_tmp[f'ofi_level{lvls}'] = bid_of - ask_of\n",
    "        return df_tmp\n",
    "\n",
    "    \n",
    "    def make_window(self, window_size, dataframe, partition):\n",
    "        normalized_df = df_new.to_numpy()\n",
    "        dataframe.drop(\"time\", inplace=True, axis = 1)\n",
    "        train_length = int(len(normalized_df) * partition)\n",
    "        data_length = len(normalized_df)\n",
    "        \n",
    "        midpoint_idx = df_new.columns.get_loc(\"midpoint\")\n",
    "        \n",
    "        windows_train = timeseries_dataset_from_array(\n",
    "            normalized_df[:train_length],  # Features for training\n",
    "            normalized_df[window_size:train_length + window_size, midpoint_idx],  # Labels for training\n",
    "            window_size,\n",
    "            sequence_stride=1,\n",
    "            sampling_rate=1,\n",
    "            batch_size=64,\n",
    "            shuffle=False,\n",
    "            seed=None\n",
    "        )\n",
    "        \n",
    "        # Windows for test dataset\n",
    "        windows_test = timeseries_dataset_from_array(\n",
    "            normalized_df[train_length:data_length - window_size],  # Features for testing\n",
    "            normalized_df[train_length + window_size:, midpoint_idx],  # Labels for testing\n",
    "            window_size,\n",
    "            sequence_stride=1,\n",
    "            sampling_rate=1,\n",
    "            batch_size=64,\n",
    "            shuffle=False\n",
    "        )\n",
    "        return windows_train, windows_test\n",
    "\n",
    "    \"\"\"\n",
    "        Returns x_train, y_train, x_test, y_test\n",
    "    \"\"\"\n",
    "    def make_generic_window(self, window_size, df, partition, make_window=False):\n",
    "        feature_columns = [col for col in df.columns if col != 'midpoint' and col != 'time']\n",
    "        X, y = [], []\n",
    "\n",
    "        if make_window:\n",
    "            # Create sliding windows\n",
    "            for i in range(len(df) - window_size):\n",
    "                X.append(df.iloc[i:i + window_size][feature_columns].values)\n",
    "                y.append(df.iloc[i + window_size]['midpoint'])\n",
    "            \n",
    "            X = np.array(X)\n",
    "            y = np.array(y)\n",
    "            split_point = int(len(df)*partition)\n",
    "            X_train = X[:split_point]\n",
    "            X_test = X[split_point:]\n",
    "            y_train = df.iloc[:split_point]['midpoint']\n",
    "            y_test =  df.iloc[split_point:]['midpoint']\n",
    "            return X_train, X_test, y_train, y_test\n",
    "        else:\n",
    "            split_point = int(len(df)*partition)\n",
    "            X_train = X[:split_point]\n",
    "            X_test = X[split_point:]\n",
    "            y_train = df.iloc[:split_point]['midpoint']\n",
    "            y_test =  df.iloc[split_point:]['midpoint']\n",
    "            \n",
    "            return X_train, X_test, y_train, y_test\n",
    "\n",
    "    def normalize_data(self, df2, train_length):\n",
    "        \"\"\"\n",
    "        Normalizes data based on the training dataset mean and std.\n",
    "        \"\"\"\n",
    "        if \"time\" in df2.columns:\n",
    "            df2 = df2.drop(columns=[\"time\"])\n",
    "        mean_df = df2[:train_length].mean()\n",
    "        std_df = df2[:train_length].std()\n",
    "        normalized_df = (df2 - mean_df) / std_df\n",
    "        return normalized_df\n",
    "\n",
    "    # Function to extract data from TensorFlow Dataset\n",
    "    def extract_data_from_dataset(self, dataset):\n",
    "        X_list = []\n",
    "        y_list = []\n",
    "        for X_batch, y_batch in dataset:\n",
    "            X_list.append(X_batch.numpy())\n",
    "            y_list.append(y_batch.numpy())\n",
    "        X_array = np.vstack(X_list)  # Combine batches into one array\n",
    "        y_array = np.concatenate(y_list)\n",
    "        return X_array, y_array\n",
    "\n",
    "    def r_get_window(self, df_tmp, train_length, window_size):\n",
    "        # Drop time column (not needed for input features)\n",
    "        if \"time\" in df_tmp.columns:\n",
    "            df_tmp = df_tmp.drop(columns=[\"time\"])\n",
    "        \n",
    "        # Split dataset into train and test sets\n",
    "        data_length = df_tmp.shape[0]\n",
    "        train_length = round(0.8 * data_length)  # 80% training data\n",
    "\n",
    "        self.train_length = train_length\n",
    "        \n",
    "        normalized_df = dp.normalize_data(df_tmp, train_length)\n",
    "\n",
    "        data_array = normalized_df.to_numpy()\n",
    "        \n",
    "        X = data_array[:, 1:]  # All columns except the first ('midpoint')\n",
    "        y = data_array[:, 0]#df_tmp[\"midpoint\"]\n",
    "        #y = data_array[:, 0]   # The first column is 'midpoint'\n",
    "        \n",
    "        windows_train = timeseries_dataset_from_array(\n",
    "            X[:train_length],                    # Features for training\n",
    "            y[window_size:(train_length+window_size)],  # Target (midpoint) for training\n",
    "            sequence_length=window_size,        # Length of each input sequence\n",
    "            sequence_stride=1,                  # Step size for creating sequences\n",
    "            sampling_rate=1,                    # Sample every time step\n",
    "            batch_size=64,                      # Batch size\n",
    "            shuffle=True                        # Shuffle training data\n",
    "        )\n",
    "        \n",
    "        # Windows for test dataset\n",
    "        windows_test = timeseries_dataset_from_array(\n",
    "            X[train_length:(data_length-window_size)],  # Features for testing\n",
    "            y[train_length + window_size:],            # Target (midpoint) for testing\n",
    "            sequence_length=window_size,               # Length of each input sequence\n",
    "            sequence_stride=1,                         # Step size for creating sequences\n",
    "            sampling_rate=1,                           # Sample every time step\n",
    "            batch_size=64,                             # Batch size\n",
    "            shuffle=False                              # Do not shuffle test data\n",
    "        )\n",
    "        \n",
    "        return windows_train, windows_test\n",
    "\n",
    "    # Function to extract data from TensorFlow Dataset\n",
    "    def extract_data_from_dataset(self, dataset):\n",
    "        X_list = []\n",
    "        y_list = []\n",
    "        for X_batch, y_batch in dataset:\n",
    "            X_list.append(X_batch.numpy())\n",
    "            y_list.append(y_batch.numpy())\n",
    "        X_array = np.vstack(X_list)  # Combine batches into one array\n",
    "        y_array = np.concatenate(y_list)\n",
    "        return X_array, y_array\n",
    "\n",
    "    def plot_graph(self, y_test, y_pred):\n",
    "        # Plotting the graphs\n",
    "        plt.figure(figsize=(10, 6))\n",
    "        plt.plot(y_test, label=\"Actual\", color=\"blue\")\n",
    "        plt.plot(y_pred, label=\"Predicted\", color=\"red\", linestyle=\"--\")\n",
    "        plt.legend()\n",
    "        plt.title(\"Actual vs Predicted Values\")\n",
    "        plt.xlabel(\"Sample Index\")\n",
    "        plt.ylabel(\"Target Value\")\n",
    "        plt.show()\n",
    "\n",
    "    def get_metrics(self, y_test, y_pred):\n",
    "        mse = mean_squared_error(y_test, y_pred)\n",
    "        r2 = r2_score(y_test, y_pred)\n",
    "        \n",
    "        print(f\"Mean Squared Error: {mse}\")\n",
    "        print(f\"R² Score: {r2}\")\n",
    "        \n",
    "        dp.plot_graph(y_test, y_pred)"
   ]
  },
  {
   "cell_type": "code",
   "execution_count": 3,
   "metadata": {
    "colab": {
     "base_uri": "https://localhost:8080/",
     "height": 727
    },
    "id": "MDJ6KT39MnB-",
    "outputId": "05423876-0672-421e-d3b2-f7752868cf22"
   },
   "outputs": [],
   "source": [
    "import tensorflow as tf\n",
    "from tensorflow.keras.layers import Dense, RepeatVector, LSTM, Dropout\n",
    "from tensorflow.keras.models import Sequential\n",
    "from keras.callbacks import ModelCheckpoint, TensorBoard, Callback, EarlyStopping\n",
    "\n",
    "def get_model(no_of_levels, window_size):\n",
    "    \"\"\"\n",
    "        early_stop = EarlyStopping(monitor=\"loss\", mode=\"min\", patience=7)\n",
    "        modelh = Sequential()\n",
    "        modelh.add(LSTM(units=100, return_sequences=True, activation='relu', input_shape=(window_size, no_of_levels)))\n",
    "        modelh.add(Dropout(0.2))\n",
    "        #modelh.add(LSTM(units=100, return_sequences=True, activation='relu'))\n",
    "        #modelh.add(Dropout(0.2))\n",
    "        #modelh.add(LSTM(units=100, return_sequences=True, activation='relu'))\n",
    "        modelh.add(LSTM(units=100, return_sequences=False, activation='relu'))  # No sequences returned here\n",
    "        modelh.add(Dense(50, activation='relu'))\n",
    "        modelh.add(Dense(1))  # Final output for regression\n",
    "        return modelh\n",
    "    \"\"\"\n",
    "    early_stop = EarlyStopping(monitor=\"loss\", mode=\"min\", patience=7)\n",
    "    modelh = Sequential()\n",
    "    modelh.add(LSTM(units=100, return_sequences=True, activation='relu', input_shape=(window_size, no_of_levels)))\n",
    "    modelh.add(Dropout(0.2))\n",
    "    modelh.add(LSTM(units=100, return_sequences=True, activation='relu'))\n",
    "    modelh.add(Dropout(0.2))\n",
    "    #modelh.add(LSTM(units=100, return_sequences=True, activation='relu'))\n",
    "    modelh.add(LSTM(units=50, return_sequences=False, activation='relu'))  # No sequences returned here\n",
    "    modelh.add(Dense(20, activation='relu'))\n",
    "    modelh.add(Dense(1))  # Final output for regression\n",
    "    return modelh"
   ]
  },
  {
   "cell_type": "code",
   "execution_count": 4,
   "metadata": {
    "colab": {
     "base_uri": "https://localhost:8080/"
    },
    "id": "EPzKip8lNMnk",
    "outputId": "122ea099-c0de-4e7d-96ad-2a034b01e3e2"
   },
   "outputs": [
    {
     "name": "stderr",
     "output_type": "stream",
     "text": [
      "/opt/anaconda3/lib/python3.12/site-packages/keras/src/layers/rnn/rnn.py:200: UserWarning: Do not pass an `input_shape`/`input_dim` argument to a layer. When using Sequential models, prefer using an `Input(shape)` object as the first layer in the model instead.\n",
      "  super().__init__(**kwargs)\n"
     ]
    }
   ],
   "source": [
    "\n",
    "# Set window size\n",
    "window_size = 100\n",
    "num_levels = 10\n",
    "is_ofi = False\n",
    "\n",
    "\n",
    "dp = DataPreprocess()\n",
    "\n",
    "df = dp.load_data(\"archive/ETH_1min.csv\")\n",
    "\n",
    "df = dp.get_bid_levels(df, num_levels)\n",
    "\n",
    "data_length = df.shape[0]\n",
    "train_length = round(0.8 * data_length)\n",
    "\n",
    "windows_train, windows_test = dp.r_get_window(df, train_length, window_size)\n",
    "\n",
    "nm_lvl = len(df.columns) - 2\n",
    "\n",
    "model = get_model(40, window_size)\n",
    "\n",
    "model.compile(loss=\"mse\", optimizer=\"adam\", metrics=[\"mse\"])\n",
    "#history = model.fit(windows_train, epochs=10,verbose=1)"
   ]
  },
  {
   "cell_type": "code",
   "execution_count": 5,
   "metadata": {},
   "outputs": [],
   "source": [
    "from sklearn.metrics import mean_squared_error, r2_score\n",
    "import matplotlib.pyplot as plt\n",
    "\n",
    "\n",
    "def calculate_metrics_and_plot(model, train_length, lvl):\n",
    "    # Step 1: Create an instance of the DataPreprocess class\n",
    "    data_preprocessor = DataPreprocess()\n",
    "    \n",
    "    # Step 2: Load the CSV file\n",
    "    file_path = \"archive/ETH_1min.csv\"  # Path to the CSV file\n",
    "    df2 = data_preprocessor.load_data(file_path)\n",
    "    \n",
    "    # Step 3: Process the data for 10 bid/ask levels\n",
    "    eth_df = data_preprocessor.get_bid_levels(df2, bid_levels=lvl)\n",
    "    eth_df.drop(\"time\", inplace = True, axis = 1)\n",
    "    eth_df.head()\n",
    "    \n",
    "    mean_df = eth_df[:train_length].mean()\n",
    "    std_df = eth_df[:train_length].std()\n",
    "    \n",
    "    normalized_df = (eth_df - mean_df) / std_df\n",
    "    # Predict\n",
    "    y_pred = model.predict(windows_test)\n",
    "    \n",
    "    # Remove standardization from predictions\n",
    "    real_pred = y_pred.flatten() * std_df[\"midpoint\"] + mean_df[\"midpoint\"]\n",
    "    \n",
    "    # Prepare true values for comparison\n",
    "    input_pred = eth_df[\"midpoint\"][train_length + window_size:].reset_index(drop=True)\n",
    "    \n",
    "    # Align lengths\n",
    "    min_length = min(len(input_pred), len(real_pred))\n",
    "    real_pred = real_pred[:min_length]\n",
    "    input_pred = input_pred[:min_length]\n",
    "    \n",
    "    # Calculate metrics\n",
    "    mse = mean_squared_error(input_pred, real_pred)\n",
    "    r2 = r2_score(input_pred, real_pred)\n",
    "    print(f\"Mean Squared Error: {mse}\")\n",
    "    print(f\"R² Score: {r2}\")\n",
    "    \n",
    "    # Plot\n",
    "    plt.plot(real_pred, label=\"Prediction\")\n",
    "    plt.plot(input_pred, label=\"True Price\")\n",
    "    plt.legend(loc=\"upper right\")\n",
    "    plt.show()"
   ]
  },
  {
   "cell_type": "code",
   "execution_count": 6,
   "metadata": {},
   "outputs": [
    {
     "name": "stderr",
     "output_type": "stream",
     "text": [
      "/opt/anaconda3/lib/python3.12/site-packages/keras/src/layers/rnn/rnn.py:200: UserWarning: Do not pass an `input_shape`/`input_dim` argument to a layer. When using Sequential models, prefer using an `Input(shape)` object as the first layer in the model instead.\n",
      "  super().__init__(**kwargs)\n"
     ]
    },
    {
     "data": {
      "text/html": [
       "<pre style=\"white-space:pre;overflow-x:auto;line-height:normal;font-family:Menlo,'DejaVu Sans Mono',consolas,'Courier New',monospace\"><span style=\"font-weight: bold\">Model: \"sequential_1\"</span>\n",
       "</pre>\n"
      ],
      "text/plain": [
       "\u001b[1mModel: \"sequential_1\"\u001b[0m\n"
      ]
     },
     "metadata": {},
     "output_type": "display_data"
    },
    {
     "data": {
      "text/html": [
       "<pre style=\"white-space:pre;overflow-x:auto;line-height:normal;font-family:Menlo,'DejaVu Sans Mono',consolas,'Courier New',monospace\">┏━━━━━━━━━━━━━━━━━━━━━━━━━━━━━━━━━┳━━━━━━━━━━━━━━━━━━━━━━━━┳━━━━━━━━━━━━━━━┓\n",
       "┃<span style=\"font-weight: bold\"> Layer (type)                    </span>┃<span style=\"font-weight: bold\"> Output Shape           </span>┃<span style=\"font-weight: bold\">       Param # </span>┃\n",
       "┡━━━━━━━━━━━━━━━━━━━━━━━━━━━━━━━━━╇━━━━━━━━━━━━━━━━━━━━━━━━╇━━━━━━━━━━━━━━━┩\n",
       "│ lstm_3 (<span style=\"color: #0087ff; text-decoration-color: #0087ff\">LSTM</span>)                   │ (<span style=\"color: #00d7ff; text-decoration-color: #00d7ff\">None</span>, <span style=\"color: #00af00; text-decoration-color: #00af00\">100</span>, <span style=\"color: #00af00; text-decoration-color: #00af00\">100</span>)       │        <span style=\"color: #00af00; text-decoration-color: #00af00\">56,400</span> │\n",
       "├─────────────────────────────────┼────────────────────────┼───────────────┤\n",
       "│ dropout_2 (<span style=\"color: #0087ff; text-decoration-color: #0087ff\">Dropout</span>)             │ (<span style=\"color: #00d7ff; text-decoration-color: #00d7ff\">None</span>, <span style=\"color: #00af00; text-decoration-color: #00af00\">100</span>, <span style=\"color: #00af00; text-decoration-color: #00af00\">100</span>)       │             <span style=\"color: #00af00; text-decoration-color: #00af00\">0</span> │\n",
       "├─────────────────────────────────┼────────────────────────┼───────────────┤\n",
       "│ lstm_4 (<span style=\"color: #0087ff; text-decoration-color: #0087ff\">LSTM</span>)                   │ (<span style=\"color: #00d7ff; text-decoration-color: #00d7ff\">None</span>, <span style=\"color: #00af00; text-decoration-color: #00af00\">100</span>, <span style=\"color: #00af00; text-decoration-color: #00af00\">100</span>)       │        <span style=\"color: #00af00; text-decoration-color: #00af00\">80,400</span> │\n",
       "├─────────────────────────────────┼────────────────────────┼───────────────┤\n",
       "│ dropout_3 (<span style=\"color: #0087ff; text-decoration-color: #0087ff\">Dropout</span>)             │ (<span style=\"color: #00d7ff; text-decoration-color: #00d7ff\">None</span>, <span style=\"color: #00af00; text-decoration-color: #00af00\">100</span>, <span style=\"color: #00af00; text-decoration-color: #00af00\">100</span>)       │             <span style=\"color: #00af00; text-decoration-color: #00af00\">0</span> │\n",
       "├─────────────────────────────────┼────────────────────────┼───────────────┤\n",
       "│ lstm_5 (<span style=\"color: #0087ff; text-decoration-color: #0087ff\">LSTM</span>)                   │ (<span style=\"color: #00d7ff; text-decoration-color: #00d7ff\">None</span>, <span style=\"color: #00af00; text-decoration-color: #00af00\">50</span>)             │        <span style=\"color: #00af00; text-decoration-color: #00af00\">30,200</span> │\n",
       "├─────────────────────────────────┼────────────────────────┼───────────────┤\n",
       "│ dense_2 (<span style=\"color: #0087ff; text-decoration-color: #0087ff\">Dense</span>)                 │ (<span style=\"color: #00d7ff; text-decoration-color: #00d7ff\">None</span>, <span style=\"color: #00af00; text-decoration-color: #00af00\">20</span>)             │         <span style=\"color: #00af00; text-decoration-color: #00af00\">1,020</span> │\n",
       "├─────────────────────────────────┼────────────────────────┼───────────────┤\n",
       "│ dense_3 (<span style=\"color: #0087ff; text-decoration-color: #0087ff\">Dense</span>)                 │ (<span style=\"color: #00d7ff; text-decoration-color: #00d7ff\">None</span>, <span style=\"color: #00af00; text-decoration-color: #00af00\">1</span>)              │            <span style=\"color: #00af00; text-decoration-color: #00af00\">21</span> │\n",
       "└─────────────────────────────────┴────────────────────────┴───────────────┘\n",
       "</pre>\n"
      ],
      "text/plain": [
       "┏━━━━━━━━━━━━━━━━━━━━━━━━━━━━━━━━━┳━━━━━━━━━━━━━━━━━━━━━━━━┳━━━━━━━━━━━━━━━┓\n",
       "┃\u001b[1m \u001b[0m\u001b[1mLayer (type)                   \u001b[0m\u001b[1m \u001b[0m┃\u001b[1m \u001b[0m\u001b[1mOutput Shape          \u001b[0m\u001b[1m \u001b[0m┃\u001b[1m \u001b[0m\u001b[1m      Param #\u001b[0m\u001b[1m \u001b[0m┃\n",
       "┡━━━━━━━━━━━━━━━━━━━━━━━━━━━━━━━━━╇━━━━━━━━━━━━━━━━━━━━━━━━╇━━━━━━━━━━━━━━━┩\n",
       "│ lstm_3 (\u001b[38;5;33mLSTM\u001b[0m)                   │ (\u001b[38;5;45mNone\u001b[0m, \u001b[38;5;34m100\u001b[0m, \u001b[38;5;34m100\u001b[0m)       │        \u001b[38;5;34m56,400\u001b[0m │\n",
       "├─────────────────────────────────┼────────────────────────┼───────────────┤\n",
       "│ dropout_2 (\u001b[38;5;33mDropout\u001b[0m)             │ (\u001b[38;5;45mNone\u001b[0m, \u001b[38;5;34m100\u001b[0m, \u001b[38;5;34m100\u001b[0m)       │             \u001b[38;5;34m0\u001b[0m │\n",
       "├─────────────────────────────────┼────────────────────────┼───────────────┤\n",
       "│ lstm_4 (\u001b[38;5;33mLSTM\u001b[0m)                   │ (\u001b[38;5;45mNone\u001b[0m, \u001b[38;5;34m100\u001b[0m, \u001b[38;5;34m100\u001b[0m)       │        \u001b[38;5;34m80,400\u001b[0m │\n",
       "├─────────────────────────────────┼────────────────────────┼───────────────┤\n",
       "│ dropout_3 (\u001b[38;5;33mDropout\u001b[0m)             │ (\u001b[38;5;45mNone\u001b[0m, \u001b[38;5;34m100\u001b[0m, \u001b[38;5;34m100\u001b[0m)       │             \u001b[38;5;34m0\u001b[0m │\n",
       "├─────────────────────────────────┼────────────────────────┼───────────────┤\n",
       "│ lstm_5 (\u001b[38;5;33mLSTM\u001b[0m)                   │ (\u001b[38;5;45mNone\u001b[0m, \u001b[38;5;34m50\u001b[0m)             │        \u001b[38;5;34m30,200\u001b[0m │\n",
       "├─────────────────────────────────┼────────────────────────┼───────────────┤\n",
       "│ dense_2 (\u001b[38;5;33mDense\u001b[0m)                 │ (\u001b[38;5;45mNone\u001b[0m, \u001b[38;5;34m20\u001b[0m)             │         \u001b[38;5;34m1,020\u001b[0m │\n",
       "├─────────────────────────────────┼────────────────────────┼───────────────┤\n",
       "│ dense_3 (\u001b[38;5;33mDense\u001b[0m)                 │ (\u001b[38;5;45mNone\u001b[0m, \u001b[38;5;34m1\u001b[0m)              │            \u001b[38;5;34m21\u001b[0m │\n",
       "└─────────────────────────────────┴────────────────────────┴───────────────┘\n"
      ]
     },
     "metadata": {},
     "output_type": "display_data"
    },
    {
     "data": {
      "text/html": [
       "<pre style=\"white-space:pre;overflow-x:auto;line-height:normal;font-family:Menlo,'DejaVu Sans Mono',consolas,'Courier New',monospace\"><span style=\"font-weight: bold\"> Total params: </span><span style=\"color: #00af00; text-decoration-color: #00af00\">168,041</span> (656.41 KB)\n",
       "</pre>\n"
      ],
      "text/plain": [
       "\u001b[1m Total params: \u001b[0m\u001b[38;5;34m168,041\u001b[0m (656.41 KB)\n"
      ]
     },
     "metadata": {},
     "output_type": "display_data"
    },
    {
     "data": {
      "text/html": [
       "<pre style=\"white-space:pre;overflow-x:auto;line-height:normal;font-family:Menlo,'DejaVu Sans Mono',consolas,'Courier New',monospace\"><span style=\"font-weight: bold\"> Trainable params: </span><span style=\"color: #00af00; text-decoration-color: #00af00\">168,041</span> (656.41 KB)\n",
       "</pre>\n"
      ],
      "text/plain": [
       "\u001b[1m Trainable params: \u001b[0m\u001b[38;5;34m168,041\u001b[0m (656.41 KB)\n"
      ]
     },
     "metadata": {},
     "output_type": "display_data"
    },
    {
     "data": {
      "text/html": [
       "<pre style=\"white-space:pre;overflow-x:auto;line-height:normal;font-family:Menlo,'DejaVu Sans Mono',consolas,'Courier New',monospace\"><span style=\"font-weight: bold\"> Non-trainable params: </span><span style=\"color: #00af00; text-decoration-color: #00af00\">0</span> (0.00 B)\n",
       "</pre>\n"
      ],
      "text/plain": [
       "\u001b[1m Non-trainable params: \u001b[0m\u001b[38;5;34m0\u001b[0m (0.00 B)\n"
      ]
     },
     "metadata": {},
     "output_type": "display_data"
    },
    {
     "name": "stdout",
     "output_type": "stream",
     "text": [
      "Epoch 1/10\n",
      "\u001b[1m213/213\u001b[0m \u001b[32m━━━━━━━━━━━━━━━━━━━━\u001b[0m\u001b[37m\u001b[0m \u001b[1m56s\u001b[0m 238ms/step - loss: 570672.9375 - mae: 21.5081 - val_loss: 0.7809 - val_mae: 0.7032\n",
      "Epoch 2/10\n",
      "\u001b[1m213/213\u001b[0m \u001b[32m━━━━━━━━━━━━━━━━━━━━\u001b[0m\u001b[37m\u001b[0m \u001b[1m48s\u001b[0m 225ms/step - loss: 0.7367 - mae: 0.7184 - val_loss: 0.5189 - val_mae: 0.5557\n",
      "Epoch 3/10\n",
      "\u001b[1m213/213\u001b[0m \u001b[32m━━━━━━━━━━━━━━━━━━━━\u001b[0m\u001b[37m\u001b[0m \u001b[1m47s\u001b[0m 222ms/step - loss: 0.2892 - mae: 0.3657 - val_loss: 0.1777 - val_mae: 0.3297\n",
      "Epoch 4/10\n",
      "\u001b[1m213/213\u001b[0m \u001b[32m━━━━━━━━━━━━━━━━━━━━\u001b[0m\u001b[37m\u001b[0m \u001b[1m48s\u001b[0m 224ms/step - loss: 0.0978 - mae: 0.2057 - val_loss: 0.0538 - val_mae: 0.1706\n",
      "Epoch 5/10\n",
      "\u001b[1m213/213\u001b[0m \u001b[32m━━━━━━━━━━━━━━━━━━━━\u001b[0m\u001b[37m\u001b[0m \u001b[1m51s\u001b[0m 237ms/step - loss: 0.0434 - mae: 0.1362 - val_loss: 0.0305 - val_mae: 0.1261\n",
      "Epoch 6/10\n",
      "\u001b[1m213/213\u001b[0m \u001b[32m━━━━━━━━━━━━━━━━━━━━\u001b[0m\u001b[37m\u001b[0m \u001b[1m47s\u001b[0m 222ms/step - loss: 0.0281 - mae: 0.1136 - val_loss: 0.0226 - val_mae: 0.1042\n",
      "Epoch 7/10\n",
      "\u001b[1m213/213\u001b[0m \u001b[32m━━━━━━━━━━━━━━━━━━━━\u001b[0m\u001b[37m\u001b[0m \u001b[1m49s\u001b[0m 229ms/step - loss: 0.0192 - mae: 0.0981 - val_loss: 0.0200 - val_mae: 0.0980\n",
      "Epoch 8/10\n",
      "\u001b[1m213/213\u001b[0m \u001b[32m━━━━━━━━━━━━━━━━━━━━\u001b[0m\u001b[37m\u001b[0m \u001b[1m48s\u001b[0m 227ms/step - loss: 0.0142 - mae: 0.0869 - val_loss: 0.0198 - val_mae: 0.1013\n",
      "Epoch 9/10\n",
      "\u001b[1m213/213\u001b[0m \u001b[32m━━━━━━━━━━━━━━━━━━━━\u001b[0m\u001b[37m\u001b[0m \u001b[1m47s\u001b[0m 222ms/step - loss: 0.0122 - mae: 0.0805 - val_loss: 0.0172 - val_mae: 0.0946\n",
      "Epoch 10/10\n",
      "\u001b[1m213/213\u001b[0m \u001b[32m━━━━━━━━━━━━━━━━━━━━\u001b[0m\u001b[37m\u001b[0m \u001b[1m49s\u001b[0m 230ms/step - loss: 0.0099 - mae: 0.0740 - val_loss: 0.0179 - val_mae: 0.0985\n",
      "\u001b[1m51/51\u001b[0m \u001b[32m━━━━━━━━━━━━━━━━━━━━\u001b[0m\u001b[37m\u001b[0m \u001b[1m5s\u001b[0m 86ms/step\n",
      "Mean Squared Error: 446.91658686764833\n",
      "R² Score: 0.9683456164990729\n"
     ]
    },
    {
     "data": {
      "image/png": "[encoded data removed]",
      "text/plain": [
       "<Figure size 640x480 with 1 Axes>"
      ]
     },
     "metadata": {},
     "output_type": "display_data"
    }
   ],
   "source": [
    "\n",
    "window_size = 100\n",
    "num_levels = [10]\n",
    "\n",
    "for lvl in num_levels:\n",
    "    dp = DataPreprocess()\n",
    "    \n",
    "    df = dp.load_data(\"archive/ETH_1min.csv\")\n",
    "    \n",
    "    df = dp.get_bid_levels(df, lvl)\n",
    "    \n",
    "    data_length = df.shape[0]\n",
    "    train_length = round(0.8 * data_length)\n",
    "    \n",
    "    windows_train, windows_test = dp.r_get_window(df, train_length, window_size)\n",
    "    \n",
    "    nm_lvl = len(df.columns) - 2\n",
    "    \n",
    "    model2 = get_model(nm_lvl, window_size)\n",
    "    \n",
    "    # Compile the model\n",
    "    model2.compile(optimizer=\"adam\", loss=\"mean_squared_error\", metrics=[\"mae\"])\n",
    "    \n",
    "    # Model Summary\n",
    "    model2.summary()\n",
    "    \n",
    "    history = model2.fit(\n",
    "        windows_train,\n",
    "        validation_data=windows_test,\n",
    "        epochs=10,\n",
    "        batch_size=64,\n",
    "        verbose=1\n",
    "    )\n",
    "\n",
    "    calculate_metrics_and_plot(model2, train_length, lvl)"
   ]
  },
  {
   "cell_type": "code",
   "execution_count": 7,
   "metadata": {},
   "outputs": [],
   "source": [
    "#calculate_metrics_and_plot(model, train_length, 10)"
   ]
  },
  {
   "cell_type": "code",
   "execution_count": 20,
   "metadata": {},
   "outputs": [
    {
     "name": "stderr",
     "output_type": "stream",
     "text": [
      "/opt/anaconda3/lib/python3.12/site-packages/keras/src/layers/rnn/rnn.py:200: UserWarning: Do not pass an `input_shape`/`input_dim` argument to a layer. When using Sequential models, prefer using an `Input(shape)` object as the first layer in the model instead.\n",
      "  super().__init__(**kwargs)\n"
     ]
    },
    {
     "data": {
      "text/html": [
       "<pre style=\"white-space:pre;overflow-x:auto;line-height:normal;font-family:Menlo,'DejaVu Sans Mono',consolas,'Courier New',monospace\"><span style=\"font-weight: bold\">Model: \"sequential_8\"</span>\n",
       "</pre>\n"
      ],
      "text/plain": [
       "\u001b[1mModel: \"sequential_8\"\u001b[0m\n"
      ]
     },
     "metadata": {},
     "output_type": "display_data"
    },
    {
     "data": {
      "text/html": [
       "<pre style=\"white-space:pre;overflow-x:auto;line-height:normal;font-family:Menlo,'DejaVu Sans Mono',consolas,'Courier New',monospace\">┏━━━━━━━━━━━━━━━━━━━━━━━━━━━━━━━━━┳━━━━━━━━━━━━━━━━━━━━━━━━┳━━━━━━━━━━━━━━━┓\n",
       "┃<span style=\"font-weight: bold\"> Layer (type)                    </span>┃<span style=\"font-weight: bold\"> Output Shape           </span>┃<span style=\"font-weight: bold\">       Param # </span>┃\n",
       "┡━━━━━━━━━━━━━━━━━━━━━━━━━━━━━━━━━╇━━━━━━━━━━━━━━━━━━━━━━━━╇━━━━━━━━━━━━━━━┩\n",
       "│ lstm_24 (<span style=\"color: #0087ff; text-decoration-color: #0087ff\">LSTM</span>)                  │ (<span style=\"color: #00d7ff; text-decoration-color: #00d7ff\">None</span>, <span style=\"color: #00af00; text-decoration-color: #00af00\">100</span>, <span style=\"color: #00af00; text-decoration-color: #00af00\">100</span>)       │        <span style=\"color: #00af00; text-decoration-color: #00af00\">48,400</span> │\n",
       "├─────────────────────────────────┼────────────────────────┼───────────────┤\n",
       "│ dropout_16 (<span style=\"color: #0087ff; text-decoration-color: #0087ff\">Dropout</span>)            │ (<span style=\"color: #00d7ff; text-decoration-color: #00d7ff\">None</span>, <span style=\"color: #00af00; text-decoration-color: #00af00\">100</span>, <span style=\"color: #00af00; text-decoration-color: #00af00\">100</span>)       │             <span style=\"color: #00af00; text-decoration-color: #00af00\">0</span> │\n",
       "├─────────────────────────────────┼────────────────────────┼───────────────┤\n",
       "│ lstm_25 (<span style=\"color: #0087ff; text-decoration-color: #0087ff\">LSTM</span>)                  │ (<span style=\"color: #00d7ff; text-decoration-color: #00d7ff\">None</span>, <span style=\"color: #00af00; text-decoration-color: #00af00\">100</span>, <span style=\"color: #00af00; text-decoration-color: #00af00\">100</span>)       │        <span style=\"color: #00af00; text-decoration-color: #00af00\">80,400</span> │\n",
       "├─────────────────────────────────┼────────────────────────┼───────────────┤\n",
       "│ dropout_17 (<span style=\"color: #0087ff; text-decoration-color: #0087ff\">Dropout</span>)            │ (<span style=\"color: #00d7ff; text-decoration-color: #00d7ff\">None</span>, <span style=\"color: #00af00; text-decoration-color: #00af00\">100</span>, <span style=\"color: #00af00; text-decoration-color: #00af00\">100</span>)       │             <span style=\"color: #00af00; text-decoration-color: #00af00\">0</span> │\n",
       "├─────────────────────────────────┼────────────────────────┼───────────────┤\n",
       "│ lstm_26 (<span style=\"color: #0087ff; text-decoration-color: #0087ff\">LSTM</span>)                  │ (<span style=\"color: #00d7ff; text-decoration-color: #00d7ff\">None</span>, <span style=\"color: #00af00; text-decoration-color: #00af00\">50</span>)             │        <span style=\"color: #00af00; text-decoration-color: #00af00\">30,200</span> │\n",
       "├─────────────────────────────────┼────────────────────────┼───────────────┤\n",
       "│ dense_16 (<span style=\"color: #0087ff; text-decoration-color: #0087ff\">Dense</span>)                │ (<span style=\"color: #00d7ff; text-decoration-color: #00d7ff\">None</span>, <span style=\"color: #00af00; text-decoration-color: #00af00\">20</span>)             │         <span style=\"color: #00af00; text-decoration-color: #00af00\">1,020</span> │\n",
       "├─────────────────────────────────┼────────────────────────┼───────────────┤\n",
       "│ dense_17 (<span style=\"color: #0087ff; text-decoration-color: #0087ff\">Dense</span>)                │ (<span style=\"color: #00d7ff; text-decoration-color: #00d7ff\">None</span>, <span style=\"color: #00af00; text-decoration-color: #00af00\">1</span>)              │            <span style=\"color: #00af00; text-decoration-color: #00af00\">21</span> │\n",
       "└─────────────────────────────────┴────────────────────────┴───────────────┘\n",
       "</pre>\n"
      ],
      "text/plain": [
       "┏━━━━━━━━━━━━━━━━━━━━━━━━━━━━━━━━━┳━━━━━━━━━━━━━━━━━━━━━━━━┳━━━━━━━━━━━━━━━┓\n",
       "┃\u001b[1m \u001b[0m\u001b[1mLayer (type)                   \u001b[0m\u001b[1m \u001b[0m┃\u001b[1m \u001b[0m\u001b[1mOutput Shape          \u001b[0m\u001b[1m \u001b[0m┃\u001b[1m \u001b[0m\u001b[1m      Param #\u001b[0m\u001b[1m \u001b[0m┃\n",
       "┡━━━━━━━━━━━━━━━━━━━━━━━━━━━━━━━━━╇━━━━━━━━━━━━━━━━━━━━━━━━╇━━━━━━━━━━━━━━━┩\n",
       "│ lstm_24 (\u001b[38;5;33mLSTM\u001b[0m)                  │ (\u001b[38;5;45mNone\u001b[0m, \u001b[38;5;34m100\u001b[0m, \u001b[38;5;34m100\u001b[0m)       │        \u001b[38;5;34m48,400\u001b[0m │\n",
       "├─────────────────────────────────┼────────────────────────┼───────────────┤\n",
       "│ dropout_16 (\u001b[38;5;33mDropout\u001b[0m)            │ (\u001b[38;5;45mNone\u001b[0m, \u001b[38;5;34m100\u001b[0m, \u001b[38;5;34m100\u001b[0m)       │             \u001b[38;5;34m0\u001b[0m │\n",
       "├─────────────────────────────────┼────────────────────────┼───────────────┤\n",
       "│ lstm_25 (\u001b[38;5;33mLSTM\u001b[0m)                  │ (\u001b[38;5;45mNone\u001b[0m, \u001b[38;5;34m100\u001b[0m, \u001b[38;5;34m100\u001b[0m)       │        \u001b[38;5;34m80,400\u001b[0m │\n",
       "├─────────────────────────────────┼────────────────────────┼───────────────┤\n",
       "│ dropout_17 (\u001b[38;5;33mDropout\u001b[0m)            │ (\u001b[38;5;45mNone\u001b[0m, \u001b[38;5;34m100\u001b[0m, \u001b[38;5;34m100\u001b[0m)       │             \u001b[38;5;34m0\u001b[0m │\n",
       "├─────────────────────────────────┼────────────────────────┼───────────────┤\n",
       "│ lstm_26 (\u001b[38;5;33mLSTM\u001b[0m)                  │ (\u001b[38;5;45mNone\u001b[0m, \u001b[38;5;34m50\u001b[0m)             │        \u001b[38;5;34m30,200\u001b[0m │\n",
       "├─────────────────────────────────┼────────────────────────┼───────────────┤\n",
       "│ dense_16 (\u001b[38;5;33mDense\u001b[0m)                │ (\u001b[38;5;45mNone\u001b[0m, \u001b[38;5;34m20\u001b[0m)             │         \u001b[38;5;34m1,020\u001b[0m │\n",
       "├─────────────────────────────────┼────────────────────────┼───────────────┤\n",
       "│ dense_17 (\u001b[38;5;33mDense\u001b[0m)                │ (\u001b[38;5;45mNone\u001b[0m, \u001b[38;5;34m1\u001b[0m)              │            \u001b[38;5;34m21\u001b[0m │\n",
       "└─────────────────────────────────┴────────────────────────┴───────────────┘\n"
      ]
     },
     "metadata": {},
     "output_type": "display_data"
    },
    {
     "data": {
      "text/html": [
       "<pre style=\"white-space:pre;overflow-x:auto;line-height:normal;font-family:Menlo,'DejaVu Sans Mono',consolas,'Courier New',monospace\"><span style=\"font-weight: bold\"> Total params: </span><span style=\"color: #00af00; text-decoration-color: #00af00\">160,041</span> (625.16 KB)\n",
       "</pre>\n"
      ],
      "text/plain": [
       "\u001b[1m Total params: \u001b[0m\u001b[38;5;34m160,041\u001b[0m (625.16 KB)\n"
      ]
     },
     "metadata": {},
     "output_type": "display_data"
    },
    {
     "data": {
      "text/html": [
       "<pre style=\"white-space:pre;overflow-x:auto;line-height:normal;font-family:Menlo,'DejaVu Sans Mono',consolas,'Courier New',monospace\"><span style=\"font-weight: bold\"> Trainable params: </span><span style=\"color: #00af00; text-decoration-color: #00af00\">160,041</span> (625.16 KB)\n",
       "</pre>\n"
      ],
      "text/plain": [
       "\u001b[1m Trainable params: \u001b[0m\u001b[38;5;34m160,041\u001b[0m (625.16 KB)\n"
      ]
     },
     "metadata": {},
     "output_type": "display_data"
    },
    {
     "data": {
      "text/html": [
       "<pre style=\"white-space:pre;overflow-x:auto;line-height:normal;font-family:Menlo,'DejaVu Sans Mono',consolas,'Courier New',monospace\"><span style=\"font-weight: bold\"> Non-trainable params: </span><span style=\"color: #00af00; text-decoration-color: #00af00\">0</span> (0.00 B)\n",
       "</pre>\n"
      ],
      "text/plain": [
       "\u001b[1m Non-trainable params: \u001b[0m\u001b[38;5;34m0\u001b[0m (0.00 B)\n"
      ]
     },
     "metadata": {},
     "output_type": "display_data"
    },
    {
     "name": "stdout",
     "output_type": "stream",
     "text": [
      "Epoch 1/10\n",
      "\u001b[1m213/213\u001b[0m \u001b[32m━━━━━━━━━━━━━━━━━━━━\u001b[0m\u001b[37m\u001b[0m \u001b[1m58s\u001b[0m 241ms/step - loss: 0.1340 - mae: 0.1924 - val_loss: 0.0101 - val_mae: 0.0711\n",
      "Epoch 2/10\n",
      "\u001b[1m213/213\u001b[0m \u001b[32m━━━━━━━━━━━━━━━━━━━━\u001b[0m\u001b[37m\u001b[0m \u001b[1m54s\u001b[0m 252ms/step - loss: 0.0038 - mae: 0.0459 - val_loss: 0.0098 - val_mae: 0.0712\n",
      "Epoch 3/10\n",
      "\u001b[1m213/213\u001b[0m \u001b[32m━━━━━━━━━━━━━━━━━━━━\u001b[0m\u001b[37m\u001b[0m \u001b[1m48s\u001b[0m 225ms/step - loss: 0.0031 - mae: 0.0406 - val_loss: 0.0099 - val_mae: 0.0717\n",
      "Epoch 4/10\n",
      "\u001b[1m213/213\u001b[0m \u001b[32m━━━━━━━━━━━━━━━━━━━━\u001b[0m\u001b[37m\u001b[0m \u001b[1m51s\u001b[0m 241ms/step - loss: 0.0027 - mae: 0.0383 - val_loss: 0.0121 - val_mae: 0.0807\n",
      "Epoch 5/10\n",
      "\u001b[1m213/213\u001b[0m \u001b[32m━━━━━━━━━━━━━━━━━━━━\u001b[0m\u001b[37m\u001b[0m \u001b[1m78s\u001b[0m 223ms/step - loss: 0.0025 - mae: 0.0368 - val_loss: 0.0116 - val_mae: 0.0792\n",
      "Epoch 6/10\n",
      "\u001b[1m213/213\u001b[0m \u001b[32m━━━━━━━━━━━━━━━━━━━━\u001b[0m\u001b[37m\u001b[0m \u001b[1m47s\u001b[0m 220ms/step - loss: 0.0031 - mae: 0.0401 - val_loss: 0.0133 - val_mae: 0.0845\n",
      "Epoch 7/10\n",
      "\u001b[1m213/213\u001b[0m \u001b[32m━━━━━━━━━━━━━━━━━━━━\u001b[0m\u001b[37m\u001b[0m \u001b[1m47s\u001b[0m 222ms/step - loss: 0.0022 - mae: 0.0345 - val_loss: 0.0119 - val_mae: 0.0802\n",
      "Epoch 8/10\n",
      "\u001b[1m213/213\u001b[0m \u001b[32m━━━━━━━━━━━━━━━━━━━━\u001b[0m\u001b[37m\u001b[0m \u001b[1m48s\u001b[0m 224ms/step - loss: 0.0021 - mae: 0.0341 - val_loss: 0.0180 - val_mae: 0.1015\n",
      "Epoch 9/10\n",
      "\u001b[1m213/213\u001b[0m \u001b[32m━━━━━━━━━━━━━━━━━━━━\u001b[0m\u001b[37m\u001b[0m \u001b[1m47s\u001b[0m 223ms/step - loss: 0.0020 - mae: 0.0331 - val_loss: 0.0195 - val_mae: 0.1048\n",
      "Epoch 10/10\n",
      "\u001b[1m213/213\u001b[0m \u001b[32m━━━━━━━━━━━━━━━━━━━━\u001b[0m\u001b[37m\u001b[0m \u001b[1m47s\u001b[0m 222ms/step - loss: 0.0021 - mae: 0.0331 - val_loss: 0.0128 - val_mae: 0.0839\n",
      "\u001b[1m51/51\u001b[0m \u001b[32m━━━━━━━━━━━━━━━━━━━━\u001b[0m\u001b[37m\u001b[0m \u001b[1m4s\u001b[0m 72ms/step\n",
      "Mean Squared Error: 320.15829756018013\n",
      "R² Score: 0.9773237023870517\n"
     ]
    },
    {
     "data": {
      "image/png": "[encoded data removed]",
      "text/plain": [
       "<Figure size 640x480 with 1 Axes>"
      ]
     },
     "metadata": {},
     "output_type": "display_data"
    }
   ],
   "source": [
    "\n",
    "window_size = 100\n",
    "num_levels = [5]\n",
    "\n",
    "for lvl in num_levels:\n",
    "    dp = DataPreprocess()\n",
    "    \n",
    "    df = dp.load_data(\"archive/ETH_1min.csv\")\n",
    "    \n",
    "    df = dp.get_bid_levels(df, lvl)\n",
    "    \n",
    "    data_length = df.shape[0]\n",
    "    train_length = round(0.8 * data_length)\n",
    "    \n",
    "    windows_train, windows_test = dp.r_get_window(df, train_length, window_size)\n",
    "    \n",
    "    nm_lvl = len(df.columns) - 2\n",
    "    \n",
    "    model2 = get_model(nm_lvl, window_size)\n",
    "    \n",
    "    # Compile the model\n",
    "    model2.compile(optimizer=\"adam\", loss=\"mean_squared_error\", metrics=[\"mae\"])\n",
    "    \n",
    "    # Model Summary\n",
    "    model2.summary()\n",
    "    \n",
    "    history = model2.fit(\n",
    "        windows_train,\n",
    "        validation_data=windows_test,\n",
    "        epochs=10,\n",
    "        batch_size=64,\n",
    "        verbose=1\n",
    "    )\n",
    "\n",
    "    calculate_metrics_and_plot(model2, train_length, lvl)"
   ]
  },
  {
   "cell_type": "code",
   "execution_count": 26,
   "metadata": {},
   "outputs": [
    {
     "name": "stderr",
     "output_type": "stream",
     "text": [
      "/opt/anaconda3/lib/python3.12/site-packages/keras/src/layers/rnn/rnn.py:200: UserWarning: Do not pass an `input_shape`/`input_dim` argument to a layer. When using Sequential models, prefer using an `Input(shape)` object as the first layer in the model instead.\n",
      "  super().__init__(**kwargs)\n"
     ]
    },
    {
     "data": {
      "text/html": [
       "<pre style=\"white-space:pre;overflow-x:auto;line-height:normal;font-family:Menlo,'DejaVu Sans Mono',consolas,'Courier New',monospace\"><span style=\"font-weight: bold\">Model: \"sequential_11\"</span>\n",
       "</pre>\n"
      ],
      "text/plain": [
       "\u001b[1mModel: \"sequential_11\"\u001b[0m\n"
      ]
     },
     "metadata": {},
     "output_type": "display_data"
    },
    {
     "data": {
      "text/html": [
       "<pre style=\"white-space:pre;overflow-x:auto;line-height:normal;font-family:Menlo,'DejaVu Sans Mono',consolas,'Courier New',monospace\">┏━━━━━━━━━━━━━━━━━━━━━━━━━━━━━━━━━┳━━━━━━━━━━━━━━━━━━━━━━━━┳━━━━━━━━━━━━━━━┓\n",
       "┃<span style=\"font-weight: bold\"> Layer (type)                    </span>┃<span style=\"font-weight: bold\"> Output Shape           </span>┃<span style=\"font-weight: bold\">       Param # </span>┃\n",
       "┡━━━━━━━━━━━━━━━━━━━━━━━━━━━━━━━━━╇━━━━━━━━━━━━━━━━━━━━━━━━╇━━━━━━━━━━━━━━━┩\n",
       "│ lstm_33 (<span style=\"color: #0087ff; text-decoration-color: #0087ff\">LSTM</span>)                  │ (<span style=\"color: #00d7ff; text-decoration-color: #00d7ff\">None</span>, <span style=\"color: #00af00; text-decoration-color: #00af00\">100</span>, <span style=\"color: #00af00; text-decoration-color: #00af00\">100</span>)       │        <span style=\"color: #00af00; text-decoration-color: #00af00\">45,200</span> │\n",
       "├─────────────────────────────────┼────────────────────────┼───────────────┤\n",
       "│ dropout_22 (<span style=\"color: #0087ff; text-decoration-color: #0087ff\">Dropout</span>)            │ (<span style=\"color: #00d7ff; text-decoration-color: #00d7ff\">None</span>, <span style=\"color: #00af00; text-decoration-color: #00af00\">100</span>, <span style=\"color: #00af00; text-decoration-color: #00af00\">100</span>)       │             <span style=\"color: #00af00; text-decoration-color: #00af00\">0</span> │\n",
       "├─────────────────────────────────┼────────────────────────┼───────────────┤\n",
       "│ lstm_34 (<span style=\"color: #0087ff; text-decoration-color: #0087ff\">LSTM</span>)                  │ (<span style=\"color: #00d7ff; text-decoration-color: #00d7ff\">None</span>, <span style=\"color: #00af00; text-decoration-color: #00af00\">100</span>, <span style=\"color: #00af00; text-decoration-color: #00af00\">100</span>)       │        <span style=\"color: #00af00; text-decoration-color: #00af00\">80,400</span> │\n",
       "├─────────────────────────────────┼────────────────────────┼───────────────┤\n",
       "│ dropout_23 (<span style=\"color: #0087ff; text-decoration-color: #0087ff\">Dropout</span>)            │ (<span style=\"color: #00d7ff; text-decoration-color: #00d7ff\">None</span>, <span style=\"color: #00af00; text-decoration-color: #00af00\">100</span>, <span style=\"color: #00af00; text-decoration-color: #00af00\">100</span>)       │             <span style=\"color: #00af00; text-decoration-color: #00af00\">0</span> │\n",
       "├─────────────────────────────────┼────────────────────────┼───────────────┤\n",
       "│ lstm_35 (<span style=\"color: #0087ff; text-decoration-color: #0087ff\">LSTM</span>)                  │ (<span style=\"color: #00d7ff; text-decoration-color: #00d7ff\">None</span>, <span style=\"color: #00af00; text-decoration-color: #00af00\">50</span>)             │        <span style=\"color: #00af00; text-decoration-color: #00af00\">30,200</span> │\n",
       "├─────────────────────────────────┼────────────────────────┼───────────────┤\n",
       "│ dense_22 (<span style=\"color: #0087ff; text-decoration-color: #0087ff\">Dense</span>)                │ (<span style=\"color: #00d7ff; text-decoration-color: #00d7ff\">None</span>, <span style=\"color: #00af00; text-decoration-color: #00af00\">20</span>)             │         <span style=\"color: #00af00; text-decoration-color: #00af00\">1,020</span> │\n",
       "├─────────────────────────────────┼────────────────────────┼───────────────┤\n",
       "│ dense_23 (<span style=\"color: #0087ff; text-decoration-color: #0087ff\">Dense</span>)                │ (<span style=\"color: #00d7ff; text-decoration-color: #00d7ff\">None</span>, <span style=\"color: #00af00; text-decoration-color: #00af00\">1</span>)              │            <span style=\"color: #00af00; text-decoration-color: #00af00\">21</span> │\n",
       "└─────────────────────────────────┴────────────────────────┴───────────────┘\n",
       "</pre>\n"
      ],
      "text/plain": [
       "┏━━━━━━━━━━━━━━━━━━━━━━━━━━━━━━━━━┳━━━━━━━━━━━━━━━━━━━━━━━━┳━━━━━━━━━━━━━━━┓\n",
       "┃\u001b[1m \u001b[0m\u001b[1mLayer (type)                   \u001b[0m\u001b[1m \u001b[0m┃\u001b[1m \u001b[0m\u001b[1mOutput Shape          \u001b[0m\u001b[1m \u001b[0m┃\u001b[1m \u001b[0m\u001b[1m      Param #\u001b[0m\u001b[1m \u001b[0m┃\n",
       "┡━━━━━━━━━━━━━━━━━━━━━━━━━━━━━━━━━╇━━━━━━━━━━━━━━━━━━━━━━━━╇━━━━━━━━━━━━━━━┩\n",
       "│ lstm_33 (\u001b[38;5;33mLSTM\u001b[0m)                  │ (\u001b[38;5;45mNone\u001b[0m, \u001b[38;5;34m100\u001b[0m, \u001b[38;5;34m100\u001b[0m)       │        \u001b[38;5;34m45,200\u001b[0m │\n",
       "├─────────────────────────────────┼────────────────────────┼───────────────┤\n",
       "│ dropout_22 (\u001b[38;5;33mDropout\u001b[0m)            │ (\u001b[38;5;45mNone\u001b[0m, \u001b[38;5;34m100\u001b[0m, \u001b[38;5;34m100\u001b[0m)       │             \u001b[38;5;34m0\u001b[0m │\n",
       "├─────────────────────────────────┼────────────────────────┼───────────────┤\n",
       "│ lstm_34 (\u001b[38;5;33mLSTM\u001b[0m)                  │ (\u001b[38;5;45mNone\u001b[0m, \u001b[38;5;34m100\u001b[0m, \u001b[38;5;34m100\u001b[0m)       │        \u001b[38;5;34m80,400\u001b[0m │\n",
       "├─────────────────────────────────┼────────────────────────┼───────────────┤\n",
       "│ dropout_23 (\u001b[38;5;33mDropout\u001b[0m)            │ (\u001b[38;5;45mNone\u001b[0m, \u001b[38;5;34m100\u001b[0m, \u001b[38;5;34m100\u001b[0m)       │             \u001b[38;5;34m0\u001b[0m │\n",
       "├─────────────────────────────────┼────────────────────────┼───────────────┤\n",
       "│ lstm_35 (\u001b[38;5;33mLSTM\u001b[0m)                  │ (\u001b[38;5;45mNone\u001b[0m, \u001b[38;5;34m50\u001b[0m)             │        \u001b[38;5;34m30,200\u001b[0m │\n",
       "├─────────────────────────────────┼────────────────────────┼───────────────┤\n",
       "│ dense_22 (\u001b[38;5;33mDense\u001b[0m)                │ (\u001b[38;5;45mNone\u001b[0m, \u001b[38;5;34m20\u001b[0m)             │         \u001b[38;5;34m1,020\u001b[0m │\n",
       "├─────────────────────────────────┼────────────────────────┼───────────────┤\n",
       "│ dense_23 (\u001b[38;5;33mDense\u001b[0m)                │ (\u001b[38;5;45mNone\u001b[0m, \u001b[38;5;34m1\u001b[0m)              │            \u001b[38;5;34m21\u001b[0m │\n",
       "└─────────────────────────────────┴────────────────────────┴───────────────┘\n"
      ]
     },
     "metadata": {},
     "output_type": "display_data"
    },
    {
     "data": {
      "text/html": [
       "<pre style=\"white-space:pre;overflow-x:auto;line-height:normal;font-family:Menlo,'DejaVu Sans Mono',consolas,'Courier New',monospace\"><span style=\"font-weight: bold\"> Total params: </span><span style=\"color: #00af00; text-decoration-color: #00af00\">156,841</span> (612.66 KB)\n",
       "</pre>\n"
      ],
      "text/plain": [
       "\u001b[1m Total params: \u001b[0m\u001b[38;5;34m156,841\u001b[0m (612.66 KB)\n"
      ]
     },
     "metadata": {},
     "output_type": "display_data"
    },
    {
     "data": {
      "text/html": [
       "<pre style=\"white-space:pre;overflow-x:auto;line-height:normal;font-family:Menlo,'DejaVu Sans Mono',consolas,'Courier New',monospace\"><span style=\"font-weight: bold\"> Trainable params: </span><span style=\"color: #00af00; text-decoration-color: #00af00\">156,841</span> (612.66 KB)\n",
       "</pre>\n"
      ],
      "text/plain": [
       "\u001b[1m Trainable params: \u001b[0m\u001b[38;5;34m156,841\u001b[0m (612.66 KB)\n"
      ]
     },
     "metadata": {},
     "output_type": "display_data"
    },
    {
     "data": {
      "text/html": [
       "<pre style=\"white-space:pre;overflow-x:auto;line-height:normal;font-family:Menlo,'DejaVu Sans Mono',consolas,'Courier New',monospace\"><span style=\"font-weight: bold\"> Non-trainable params: </span><span style=\"color: #00af00; text-decoration-color: #00af00\">0</span> (0.00 B)\n",
       "</pre>\n"
      ],
      "text/plain": [
       "\u001b[1m Non-trainable params: \u001b[0m\u001b[38;5;34m0\u001b[0m (0.00 B)\n"
      ]
     },
     "metadata": {},
     "output_type": "display_data"
    },
    {
     "name": "stdout",
     "output_type": "stream",
     "text": [
      "Epoch 1/5\n",
      "\u001b[1m213/213\u001b[0m \u001b[32m━━━━━━━━━━━━━━━━━━━━\u001b[0m\u001b[37m\u001b[0m \u001b[1m53s\u001b[0m 223ms/step - loss: 0.1113 - mae: 0.1798 - val_loss: 0.0080 - val_mae: 0.0561\n",
      "Epoch 2/5\n",
      "\u001b[1m213/213\u001b[0m \u001b[32m━━━━━━━━━━━━━━━━━━━━\u001b[0m\u001b[37m\u001b[0m \u001b[1m48s\u001b[0m 226ms/step - loss: 0.0039 - mae: 0.0463 - val_loss: 0.0085 - val_mae: 0.0624\n",
      "Epoch 3/5\n",
      "\u001b[1m213/213\u001b[0m \u001b[32m━━━━━━━━━━━━━━━━━━━━\u001b[0m\u001b[37m\u001b[0m \u001b[1m48s\u001b[0m 226ms/step - loss: 0.0033 - mae: 0.0425 - val_loss: 0.0100 - val_mae: 0.0705\n",
      "Epoch 4/5\n",
      "\u001b[1m213/213\u001b[0m \u001b[32m━━━━━━━━━━━━━━━━━━━━\u001b[0m\u001b[37m\u001b[0m \u001b[1m47s\u001b[0m 219ms/step - loss: 0.0032 - mae: 0.0416 - val_loss: 0.0118 - val_mae: 0.0779\n",
      "Epoch 5/5\n",
      "\u001b[1m213/213\u001b[0m \u001b[32m━━━━━━━━━━━━━━━━━━━━\u001b[0m\u001b[37m\u001b[0m \u001b[1m48s\u001b[0m 226ms/step - loss: 0.0028 - mae: 0.0391 - val_loss: 0.0119 - val_mae: 0.0796\n",
      "\u001b[1m51/51\u001b[0m \u001b[32m━━━━━━━━━━━━━━━━━━━━\u001b[0m\u001b[37m\u001b[0m \u001b[1m4s\u001b[0m 78ms/step\n",
      "Mean Squared Error: 296.0830030436423\n",
      "R² Score: 0.9790289168004741\n"
     ]
    },
    {
     "data": {
      "image/png": "[encoded data removed]",
      "text/plain": [
       "<Figure size 640x480 with 1 Axes>"
      ]
     },
     "metadata": {},
     "output_type": "display_data"
    }
   ],
   "source": [
    "\n",
    "window_size = 100\n",
    "num_levels = [3]\n",
    "\n",
    "for lvl in num_levels:\n",
    "    dp = DataPreprocess()\n",
    "    \n",
    "    df = dp.load_data(\"archive/ETH_1min.csv\")\n",
    "    \n",
    "    df = dp.get_bid_levels(df, lvl)\n",
    "    \n",
    "    data_length = df.shape[0]\n",
    "    train_length = round(0.8 * data_length)\n",
    "    \n",
    "    windows_train, windows_test = dp.r_get_window(df, train_length, window_size)\n",
    "    \n",
    "    nm_lvl = len(df.columns) - 2\n",
    "    \n",
    "    model2 = get_model(nm_lvl, window_size)\n",
    "    \n",
    "    # Compile the model\n",
    "    model2.compile(optimizer=\"adam\", loss=\"mean_squared_error\", metrics=[\"mae\"])\n",
    "    \n",
    "    # Model Summary\n",
    "    model2.summary()\n",
    "    \n",
    "    history = model2.fit(\n",
    "        windows_train,\n",
    "        validation_data=windows_test,\n",
    "        epochs=5,\n",
    "        batch_size=64,\n",
    "        verbose=1\n",
    "    )\n",
    "\n",
    "    calculate_metrics_and_plot(model2, train_length, lvl)"
   ]
  },
  {
   "cell_type": "code",
   "execution_count": null,
   "metadata": {},
   "outputs": [],
   "source": []
  }
 ],
 "metadata": {
  "accelerator": "GPU",
  "colab": {
   "gpuType": "T4",
   "provenance": []
  },
  "kernelspec": {
   "display_name": "Python 3 (ipykernel)",
   "language": "python",
   "name": "python3"
  },
  "language_info": {
   "codemirror_mode": {
    "name": "ipython",
    "version": 3
   },
   "file_extension": ".py",
   "mimetype": "text/x-python",
   "name": "python",
   "nbconvert_exporter": "python",
   "pygments_lexer": "ipython3",
   "version": "3.12.4"
  }
 },
 "nbformat": 4,
 "nbformat_minor": 4
}
